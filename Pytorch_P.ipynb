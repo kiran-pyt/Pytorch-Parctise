{
  "nbformat": 4,
  "nbformat_minor": 0,
  "metadata": {
    "colab": {
      "provenance": [],
      "authorship_tag": "ABX9TyMwlDRUTu6qnOuJsU28ZfkN",
      "include_colab_link": true
    },
    "kernelspec": {
      "name": "python3",
      "display_name": "Python 3"
    },
    "language_info": {
      "name": "python"
    }
  },
  "cells": [
    {
      "cell_type": "markdown",
      "metadata": {
        "id": "view-in-github",
        "colab_type": "text"
      },
      "source": [
        "<a href=\"https://colab.research.google.com/github/kiran-pyt/Pytorch-Parctise/blob/main/Pytorch_P.ipynb\" target=\"_parent\"><img src=\"https://colab.research.google.com/assets/colab-badge.svg\" alt=\"Open In Colab\"/></a>"
      ]
    },
    {
      "cell_type": "code",
      "execution_count": 32,
      "metadata": {
        "id": "B4Y-T83yr7xV"
      },
      "outputs": [],
      "source": [
        "import torch\n",
        "import torch.nn as nn\n",
        "import numpy as np\n",
        "import pandas as pd\n",
        "from torch.utils.data import Dataset, DataLoader\n",
        "import matplotlib.pyplot as plt\n",
        "from torch.optim import SGD\n",
        "device = torch.device('cuda' if torch.cuda.is_available() else 'cpu')"
      ]
    },
    {
      "cell_type": "code",
      "source": [
        "device"
      ],
      "metadata": {
        "colab": {
          "base_uri": "https://localhost:8080/"
        },
        "id": "MtEPedCPshTE",
        "outputId": "c789ede3-b422-4d3c-e67b-8e2ee7c87a74"
      },
      "execution_count": 33,
      "outputs": [
        {
          "output_type": "execute_result",
          "data": {
            "text/plain": [
              "device(type='cpu')"
            ]
          },
          "metadata": {},
          "execution_count": 33
        }
      ]
    },
    {
      "cell_type": "code",
      "source": [
        "import random\n",
        "\n",
        "# Generate random 2D list for x\n",
        "x = [[random.randint(1, 10) for _ in range(2)] for _ in range(4)]\n",
        "\n",
        "# Generate random 2D list for y\n",
        "y = [[random.randint(1, 20)] for _ in range(4)]\n",
        "\n",
        "print(\"Random x:\", x)\n",
        "print(\"Random y:\", y)\n",
        "\n"
      ],
      "metadata": {
        "colab": {
          "base_uri": "https://localhost:8080/"
        },
        "id": "unBFqZoisi2X",
        "outputId": "bb943aea-ac4d-4640-c73f-966dd5638dad"
      },
      "execution_count": 34,
      "outputs": [
        {
          "output_type": "stream",
          "name": "stdout",
          "text": [
            "Random x: [[4, 5], [9, 9], [4, 9], [9, 5]]\n",
            "Random y: [[15], [15], [11], [19]]\n"
          ]
        }
      ]
    },
    {
      "cell_type": "code",
      "source": [
        "X=torch.tensor(x,dtype=torch.float32)\n",
        "Y=torch.tensor(y,dtype=torch.float32)"
      ],
      "metadata": {
        "id": "31gIp2wes49R"
      },
      "execution_count": 35,
      "outputs": []
    },
    {
      "cell_type": "code",
      "source": [
        "X.shape"
      ],
      "metadata": {
        "colab": {
          "base_uri": "https://localhost:8080/"
        },
        "id": "xDVr3q-Qs6Yl",
        "outputId": "291a795b-c2e6-4264-b683-059598d19937"
      },
      "execution_count": 36,
      "outputs": [
        {
          "output_type": "execute_result",
          "data": {
            "text/plain": [
              "torch.Size([4, 2])"
            ]
          },
          "metadata": {},
          "execution_count": 36
        }
      ]
    },
    {
      "cell_type": "code",
      "source": [
        "X"
      ],
      "metadata": {
        "colab": {
          "base_uri": "https://localhost:8080/"
        },
        "id": "fzcj8fqXtwfS",
        "outputId": "65eb272d-cad9-4050-90e8-00d4375fe4be"
      },
      "execution_count": 37,
      "outputs": [
        {
          "output_type": "execute_result",
          "data": {
            "text/plain": [
              "tensor([[4., 5.],\n",
              "        [9., 9.],\n",
              "        [4., 9.],\n",
              "        [9., 5.]])"
            ]
          },
          "metadata": {},
          "execution_count": 37
        }
      ]
    },
    {
      "cell_type": "code",
      "source": [
        "Y.shape"
      ],
      "metadata": {
        "colab": {
          "base_uri": "https://localhost:8080/"
        },
        "id": "xiGwfddCtzdl",
        "outputId": "8cfe6e95-10d6-4a51-f46f-18f7c8c58769"
      },
      "execution_count": 38,
      "outputs": [
        {
          "output_type": "execute_result",
          "data": {
            "text/plain": [
              "torch.Size([4, 1])"
            ]
          },
          "metadata": {},
          "execution_count": 38
        }
      ]
    },
    {
      "cell_type": "code",
      "source": [
        "Y"
      ],
      "metadata": {
        "colab": {
          "base_uri": "https://localhost:8080/"
        },
        "id": "ACSfbJ9It18y",
        "outputId": "cfe3bc19-84c6-473d-afeb-87f90120ff47"
      },
      "execution_count": 39,
      "outputs": [
        {
          "output_type": "execute_result",
          "data": {
            "text/plain": [
              "tensor([[15.],\n",
              "        [15.],\n",
              "        [11.],\n",
              "        [19.]])"
            ]
          },
          "metadata": {},
          "execution_count": 39
        }
      ]
    },
    {
      "cell_type": "code",
      "source": [
        "X=X.to(device)\n",
        "Y=Y.to(device)"
      ],
      "metadata": {
        "id": "wny9rGmQt3AH"
      },
      "execution_count": 40,
      "outputs": []
    },
    {
      "cell_type": "code",
      "source": [
        "class MyNeuralNetwork(nn.Module):\n",
        "    def __init__(self):#def __init__(self,input_size,output_size)\n",
        "        super(MyNeuralNetwork,self).__init__()\n",
        "        self.input_to_hidden_layer=nn.Linear(2,8)\n",
        "        self.hidden_layer_activation=nn.ReLU()\n",
        "        self.hidden_to_output_layer=nn.Linear(8,1)\n",
        "    def forward(self,x):\n",
        "        x=self.input_to_hidden_layer(x)\n",
        "        x=self.hidden_layer_activation(x)\n",
        "        x=self.hidden_to_output_layer(x)\n",
        "        return x\n",
        ""
      ],
      "metadata": {
        "id": "ONSU8YGkuFUE"
      },
      "execution_count": 41,
      "outputs": []
    },
    {
      "cell_type": "code",
      "source": [
        "mynet=MyNeuralNetwork().to(device)"
      ],
      "metadata": {
        "id": "rzueTEXOvQiq"
      },
      "execution_count": 42,
      "outputs": []
    },
    {
      "cell_type": "code",
      "source": [
        "mynet.input_to_hidden_layer.weight"
      ],
      "metadata": {
        "colab": {
          "base_uri": "https://localhost:8080/"
        },
        "id": "rC8KvJsbuGci",
        "outputId": "e5b51f38-f39a-482c-de85-4003b7e17697"
      },
      "execution_count": 43,
      "outputs": [
        {
          "output_type": "execute_result",
          "data": {
            "text/plain": [
              "Parameter containing:\n",
              "tensor([[-0.2771,  0.5842],\n",
              "        [-0.5398,  0.5311],\n",
              "        [-0.6138,  0.1106],\n",
              "        [ 0.1079, -0.0635],\n",
              "        [-0.2181, -0.4381],\n",
              "        [-0.5723, -0.3754],\n",
              "        [-0.4691,  0.0307],\n",
              "        [ 0.1826,  0.6947]], requires_grad=True)"
            ]
          },
          "metadata": {},
          "execution_count": 43
        }
      ]
    },
    {
      "cell_type": "code",
      "source": [
        "mynet.parameters()"
      ],
      "metadata": {
        "colab": {
          "base_uri": "https://localhost:8080/"
        },
        "id": "Fi4Ap5g4vEOr",
        "outputId": "2781fa3c-db62-4e18-983a-d9d144118b9c"
      },
      "execution_count": 44,
      "outputs": [
        {
          "output_type": "execute_result",
          "data": {
            "text/plain": [
              "<generator object Module.parameters at 0x7a9cbf04fae0>"
            ]
          },
          "metadata": {},
          "execution_count": 44
        }
      ]
    },
    {
      "cell_type": "code",
      "source": [
        "for par in mynet.parameters():\n",
        " print(par)"
      ],
      "metadata": {
        "colab": {
          "base_uri": "https://localhost:8080/"
        },
        "id": "Ujr0Koc8wOUX",
        "outputId": "bdb4041a-cdc7-4b0d-98f1-010beb453bf6"
      },
      "execution_count": 45,
      "outputs": [
        {
          "output_type": "stream",
          "name": "stdout",
          "text": [
            "Parameter containing:\n",
            "tensor([[-0.2771,  0.5842],\n",
            "        [-0.5398,  0.5311],\n",
            "        [-0.6138,  0.1106],\n",
            "        [ 0.1079, -0.0635],\n",
            "        [-0.2181, -0.4381],\n",
            "        [-0.5723, -0.3754],\n",
            "        [-0.4691,  0.0307],\n",
            "        [ 0.1826,  0.6947]], requires_grad=True)\n",
            "Parameter containing:\n",
            "tensor([-0.1527,  0.3369,  0.4293, -0.0011,  0.4675, -0.2099,  0.3302,  0.2274],\n",
            "       requires_grad=True)\n",
            "Parameter containing:\n",
            "tensor([[ 0.0042, -0.1382,  0.0350,  0.1907, -0.2669,  0.0804,  0.3399, -0.2627]],\n",
            "       requires_grad=True)\n",
            "Parameter containing:\n",
            "tensor([-0.1761], requires_grad=True)\n"
          ]
        }
      ]
    },
    {
      "cell_type": "code",
      "source": [
        "Loss=nn.MSELoss()\n",
        "opti=SGD(mynet.parameters(),lr=0.01)\n"
      ],
      "metadata": {
        "id": "t7wXXV6ewTMS"
      },
      "execution_count": 46,
      "outputs": []
    },
    {
      "cell_type": "code",
      "source": [
        "loss_history=[]\n",
        "for _ in range(50):\n",
        "  opti.zero_grad()\n",
        "  pred=mynet(X)\n",
        "  loss=Loss(pred,Y)\n",
        "  loss.backward()\n",
        "  opti.step()\n",
        "  loss_history.append(loss.item())"
      ],
      "metadata": {
        "id": "OsKDRcCFwxsz"
      },
      "execution_count": 47,
      "outputs": []
    },
    {
      "cell_type": "code",
      "source": [
        "loss_history"
      ],
      "metadata": {
        "colab": {
          "base_uri": "https://localhost:8080/"
        },
        "id": "NC5nYEGtxQ05",
        "outputId": "cb17025a-f67d-43a1-cba8-077cbd391ef6"
      },
      "execution_count": 48,
      "outputs": [
        {
          "output_type": "execute_result",
          "data": {
            "text/plain": [
              "[291.83123779296875,\n",
              " 152.3073272705078,\n",
              " 530.6439819335938,\n",
              " 233.85443115234375,\n",
              " 224.91058349609375,\n",
              " 216.32093811035156,\n",
              " 208.07144165039062,\n",
              " 200.14859008789062,\n",
              " 192.5395050048828,\n",
              " 185.23175048828125,\n",
              " 178.21337890625,\n",
              " 171.47291564941406,\n",
              " 164.9993896484375,\n",
              " 158.7822265625,\n",
              " 152.81124877929688,\n",
              " 147.07672119140625,\n",
              " 141.56930541992188,\n",
              " 136.27993774414062,\n",
              " 131.20005798339844,\n",
              " 126.32135009765625,\n",
              " 121.63580322265625,\n",
              " 117.13583374023438,\n",
              " 112.81404876708984,\n",
              " 108.66340637207031,\n",
              " 104.6771469116211,\n",
              " 100.84873962402344,\n",
              " 97.17192077636719,\n",
              " 93.64071655273438,\n",
              " 90.24934387207031,\n",
              " 86.99227905273438,\n",
              " 83.86418151855469,\n",
              " 80.8599624633789,\n",
              " 77.97468566894531,\n",
              " 75.20370483398438,\n",
              " 72.54243469238281,\n",
              " 69.98655700683594,\n",
              " 67.53189086914062,\n",
              " 65.17442321777344,\n",
              " 62.910316467285156,\n",
              " 60.735870361328125,\n",
              " 58.64752960205078,\n",
              " 56.64189147949219,\n",
              " 54.715675354003906,\n",
              " 52.86573028564453,\n",
              " 51.08905029296875,\n",
              " 49.382720947265625,\n",
              " 47.74396514892578,\n",
              " 46.17010498046875,\n",
              " 44.6585693359375,\n",
              " 43.206886291503906]"
            ]
          },
          "metadata": {},
          "execution_count": 48
        }
      ]
    },
    {
      "cell_type": "code",
      "source": [
        "%matplotlib inline\n",
        "plt.plot(loss_history)\n",
        "plt.title('Loss variation over increasing epochs')\n",
        "plt.xlabel('epochs')\n",
        "plt.ylabel('loss value')"
      ],
      "metadata": {
        "colab": {
          "base_uri": "https://localhost:8080/",
          "height": 489
        },
        "id": "z03v0ayMxS3h",
        "outputId": "544f390e-e1a8-4526-e19c-beca322a6187"
      },
      "execution_count": 49,
      "outputs": [
        {
          "output_type": "execute_result",
          "data": {
            "text/plain": [
              "Text(0, 0.5, 'loss value')"
            ]
          },
          "metadata": {},
          "execution_count": 49
        },
        {
          "output_type": "display_data",
          "data": {
            "text/plain": [
              "<Figure size 640x480 with 1 Axes>"
            ],
            "image/png": "[encoded data removed]"
          },
          "metadata": {}
        }
      ]
    },
    {
      "cell_type": "code",
      "source": [],
      "metadata": {
        "id": "O0xssRfLxW8L"
      },
      "execution_count": 49,
      "outputs": []
    }
  ]
}