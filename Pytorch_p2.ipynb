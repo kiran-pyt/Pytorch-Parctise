{
  "nbformat": 4,
  "nbformat_minor": 0,
  "metadata": {
    "colab": {
      "provenance": [],
      "authorship_tag": "ABX9TyMu0LnsTuCBRBXlXjYPLsSQ",
      "include_colab_link": true
    },
    "kernelspec": {
      "name": "python3",
      "display_name": "Python 3"
    },
    "language_info": {
      "name": "python"
    }
  },
  "cells": [
    {
      "cell_type": "markdown",
      "metadata": {
        "id": "view-in-github",
        "colab_type": "text"
      },
      "source": [
        "<a href=\"https://colab.research.google.com/github/kiran-pyt/Pytorch-Parctise/blob/main/Pytorch_p2.ipynb\" target=\"_parent\"><img src=\"https://colab.research.google.com/assets/colab-badge.svg\" alt=\"Open In Colab\"/></a>"
      ]
    },
    {
      "cell_type": "code",
      "execution_count": 21,
      "metadata": {
        "id": "5vGe3B2Sroql"
      },
      "outputs": [],
      "source": [
        "import torch\n",
        "import torch.nn as nn\n",
        "import numpy as np\n",
        "import pandas as pd\n",
        "from torch.utils.data import Dataset, DataLoader\n",
        "import matplotlib.pyplot as plt\n",
        "from torch.optim import SGD\n",
        "device = torch.device('cuda' if torch.cuda.is_available() else 'cpu')"
      ]
    },
    {
      "cell_type": "code",
      "source": [
        "import random\n",
        "\n",
        "# Generate random 2D list for x\n",
        "x = [[random.randint(1, 10) for _ in range(2)] for _ in range(100)]\n",
        "\n",
        "# Generate random 2D list for y\n",
        "y = [[random.randint(1, 20)] for _ in range(100)]\n",
        "\n",
        "print(\"Random x:\", x)\n",
        "print(\"Random y:\", y)\n",
        "\n"
      ],
      "metadata": {
        "colab": {
          "base_uri": "https://localhost:8080/"
        },
        "id": "_8OjBXmb3m8b",
        "outputId": "51eb1bed-5093-469b-d1f3-c7fad9f0b4e2"
      },
      "execution_count": 22,
      "outputs": [
        {
          "output_type": "stream",
          "name": "stdout",
          "text": [
            "Random x: [[9, 2], [8, 4], [8, 2], [6, 4], [5, 1], [2, 7], [6, 2], [10, 9], [5, 2], [2, 3], [10, 7], [1, 5], [3, 8], [2, 10], [8, 7], [10, 10], [2, 10], [7, 2], [10, 7], [7, 4], [2, 3], [10, 1], [3, 6], [1, 10], [10, 2], [9, 5], [3, 2], [8, 2], [6, 9], [1, 3], [2, 8], [9, 7], [6, 4], [10, 3], [5, 3], [8, 2], [2, 5], [6, 6], [8, 7], [8, 4], [3, 5], [10, 1], [9, 5], [9, 2], [3, 6], [8, 1], [10, 3], [1, 9], [5, 3], [7, 4], [4, 3], [7, 2], [9, 7], [8, 9], [1, 1], [3, 7], [10, 9], [2, 3], [8, 6], [6, 4], [6, 9], [3, 5], [1, 8], [5, 3], [6, 6], [6, 9], [6, 9], [5, 7], [3, 5], [1, 2], [4, 5], [4, 9], [5, 3], [6, 3], [8, 9], [1, 2], [2, 8], [9, 6], [3, 4], [5, 9], [2, 5], [5, 5], [5, 2], [5, 1], [5, 1], [6, 6], [3, 2], [10, 9], [9, 9], [7, 5], [2, 1], [6, 5], [6, 3], [9, 9], [1, 2], [7, 9], [6, 3], [4, 10], [5, 9], [10, 10]]\n",
            "Random y: [[2], [5], [5], [1], [9], [13], [20], [18], [5], [16], [13], [20], [14], [12], [12], [12], [2], [13], [19], [6], [11], [13], [19], [7], [15], [5], [18], [3], [1], [1], [3], [5], [19], [3], [19], [11], [19], [9], [14], [9], [9], [2], [16], [18], [3], [20], [6], [16], [18], [15], [12], [2], [18], [9], [18], [13], [8], [9], [5], [3], [12], [18], [20], [17], [1], [12], [7], [8], [18], [15], [16], [14], [3], [10], [8], [1], [2], [2], [15], [16], [1], [20], [15], [19], [11], [16], [11], [10], [4], [18], [13], [12], [2], [1], [17], [16], [7], [3], [20], [11]]\n"
          ]
        }
      ]
    },
    {
      "cell_type": "code",
      "source": [
        "class MyDataset(Dataset):\n",
        "  def __init__(self, x, y):\n",
        "    self.x = torch.tensor(x, dtype=torch.float32)\n",
        "    self.y = torch.tensor(y, dtype=torch.float32)\n",
        "  def __len__(self):\n",
        "    return len(self.x)\n",
        "  def __getitem__(self, idx):\n",
        "    return self.x[idx], self.y[idx]"
      ],
      "metadata": {
        "id": "35hA5uh83rcw"
      },
      "execution_count": 23,
      "outputs": []
    },
    {
      "cell_type": "code",
      "source": [
        "ds=MyDataset(x,y)"
      ],
      "metadata": {
        "id": "WK1ef7MT4VZt"
      },
      "execution_count": 24,
      "outputs": []
    },
    {
      "cell_type": "code",
      "source": [
        "dl=DataLoader(ds, batch_size=2, shuffle=True)"
      ],
      "metadata": {
        "id": "sk9zGTOu4bsG"
      },
      "execution_count": 25,
      "outputs": []
    },
    {
      "cell_type": "code",
      "source": [
        "# Example usage: Iterating through the DataLoader\n",
        "for batch_idx, (features, targets) in enumerate(dl):\n",
        "    print(f\"Batch {batch_idx + 1}\")\n",
        "    print(\"Features:\", features)\n",
        "    print(\"Targets:\", targets)"
      ],
      "metadata": {
        "colab": {
          "base_uri": "https://localhost:8080/"
        },
        "id": "kDa1yTT04h0z",
        "outputId": "45f5c635-0228-41ac-bc58-ed599758f8b2"
      },
      "execution_count": 26,
      "outputs": [
        {
          "output_type": "stream",
          "name": "stdout",
          "text": [
            "Batch 1\n",
            "Features: tensor([[ 2.,  8.],\n",
            "        [10., 10.]])\n",
            "Targets: tensor([[ 2.],\n",
            "        [12.]])\n",
            "Batch 2\n",
            "Features: tensor([[5., 2.],\n",
            "        [3., 5.]])\n",
            "Targets: tensor([[5.],\n",
            "        [9.]])\n",
            "Batch 3\n",
            "Features: tensor([[ 8.,  1.],\n",
            "        [10.,  7.]])\n",
            "Targets: tensor([[20.],\n",
            "        [19.]])\n",
            "Batch 4\n",
            "Features: tensor([[3., 8.],\n",
            "        [1., 5.]])\n",
            "Targets: tensor([[14.],\n",
            "        [20.]])\n",
            "Batch 5\n",
            "Features: tensor([[9., 5.],\n",
            "        [6., 3.]])\n",
            "Targets: tensor([[ 5.],\n",
            "        [10.]])\n",
            "Batch 6\n",
            "Features: tensor([[9., 9.],\n",
            "        [1., 2.]])\n",
            "Targets: tensor([[1.],\n",
            "        [1.]])\n",
            "Batch 7\n",
            "Features: tensor([[ 8.,  7.],\n",
            "        [10.,  3.]])\n",
            "Targets: tensor([[12.],\n",
            "        [ 6.]])\n",
            "Batch 8\n",
            "Features: tensor([[3., 2.],\n",
            "        [3., 6.]])\n",
            "Targets: tensor([[11.],\n",
            "        [ 3.]])\n",
            "Batch 9\n",
            "Features: tensor([[10.,  7.],\n",
            "        [ 2.,  1.]])\n",
            "Targets: tensor([[13.],\n",
            "        [13.]])\n",
            "Batch 10\n",
            "Features: tensor([[5., 7.],\n",
            "        [7., 4.]])\n",
            "Targets: tensor([[ 8.],\n",
            "        [15.]])\n",
            "Batch 11\n",
            "Features: tensor([[6., 2.],\n",
            "        [3., 2.]])\n",
            "Targets: tensor([[20.],\n",
            "        [18.]])\n",
            "Batch 12\n",
            "Features: tensor([[ 4., 10.],\n",
            "        [10.,  2.]])\n",
            "Targets: tensor([[ 3.],\n",
            "        [15.]])\n",
            "Batch 13\n",
            "Features: tensor([[8., 9.],\n",
            "        [8., 4.]])\n",
            "Targets: tensor([[9.],\n",
            "        [9.]])\n",
            "Batch 14\n",
            "Features: tensor([[5., 9.],\n",
            "        [9., 7.]])\n",
            "Targets: tensor([[16.],\n",
            "        [18.]])\n",
            "Batch 15\n",
            "Features: tensor([[4., 5.],\n",
            "        [5., 2.]])\n",
            "Targets: tensor([[16.],\n",
            "        [15.]])\n",
            "Batch 16\n",
            "Features: tensor([[5., 5.],\n",
            "        [1., 9.]])\n",
            "Targets: tensor([[20.],\n",
            "        [16.]])\n",
            "Batch 17\n",
            "Features: tensor([[2., 8.],\n",
            "        [3., 6.]])\n",
            "Targets: tensor([[ 3.],\n",
            "        [19.]])\n",
            "Batch 18\n",
            "Features: tensor([[6., 6.],\n",
            "        [6., 4.]])\n",
            "Targets: tensor([[ 1.],\n",
            "        [19.]])\n",
            "Batch 19\n",
            "Features: tensor([[8., 7.],\n",
            "        [9., 2.]])\n",
            "Targets: tensor([[14.],\n",
            "        [18.]])\n",
            "Batch 20\n",
            "Features: tensor([[ 2.,  5.],\n",
            "        [10.,  3.]])\n",
            "Targets: tensor([[19.],\n",
            "        [ 3.]])\n",
            "Batch 21\n",
            "Features: tensor([[7., 2.],\n",
            "        [6., 9.]])\n",
            "Targets: tensor([[13.],\n",
            "        [12.]])\n",
            "Batch 22\n",
            "Features: tensor([[9., 6.],\n",
            "        [9., 5.]])\n",
            "Targets: tensor([[ 2.],\n",
            "        [16.]])\n",
            "Batch 23\n",
            "Features: tensor([[ 4.,  3.],\n",
            "        [10.,  9.]])\n",
            "Targets: tensor([[12.],\n",
            "        [10.]])\n",
            "Batch 24\n",
            "Features: tensor([[5., 1.],\n",
            "        [8., 2.]])\n",
            "Targets: tensor([[19.],\n",
            "        [11.]])\n",
            "Batch 25\n",
            "Features: tensor([[ 6.,  9.],\n",
            "        [10.,  9.]])\n",
            "Targets: tensor([[12.],\n",
            "        [ 8.]])\n",
            "Batch 26\n",
            "Features: tensor([[8., 2.],\n",
            "        [6., 6.]])\n",
            "Targets: tensor([[5.],\n",
            "        [9.]])\n",
            "Batch 27\n",
            "Features: tensor([[ 1.,  8.],\n",
            "        [10., 10.]])\n",
            "Targets: tensor([[20.],\n",
            "        [11.]])\n",
            "Batch 28\n",
            "Features: tensor([[5., 3.],\n",
            "        [2., 5.]])\n",
            "Targets: tensor([[18.],\n",
            "        [ 1.]])\n",
            "Batch 29\n",
            "Features: tensor([[ 2.,  7.],\n",
            "        [ 2., 10.]])\n",
            "Targets: tensor([[13.],\n",
            "        [ 2.]])\n",
            "Batch 30\n",
            "Features: tensor([[ 3.,  5.],\n",
            "        [ 2., 10.]])\n",
            "Targets: tensor([[18.],\n",
            "        [12.]])\n",
            "Batch 31\n",
            "Features: tensor([[8., 9.],\n",
            "        [6., 4.]])\n",
            "Targets: tensor([[8.],\n",
            "        [1.]])\n",
            "Batch 32\n",
            "Features: tensor([[ 8.,  6.],\n",
            "        [10.,  1.]])\n",
            "Targets: tensor([[ 5.],\n",
            "        [13.]])\n",
            "Batch 33\n",
            "Features: tensor([[6., 5.],\n",
            "        [7., 2.]])\n",
            "Targets: tensor([[12.],\n",
            "        [ 2.]])\n",
            "Batch 34\n",
            "Features: tensor([[10.,  1.],\n",
            "        [ 7.,  9.]])\n",
            "Targets: tensor([[ 2.],\n",
            "        [16.]])\n",
            "Batch 35\n",
            "Features: tensor([[1., 2.],\n",
            "        [3., 5.]])\n",
            "Targets: tensor([[15.],\n",
            "        [18.]])\n",
            "Batch 36\n",
            "Features: tensor([[5., 3.],\n",
            "        [1., 1.]])\n",
            "Targets: tensor([[ 3.],\n",
            "        [18.]])\n",
            "Batch 37\n",
            "Features: tensor([[2., 3.],\n",
            "        [6., 4.]])\n",
            "Targets: tensor([[16.],\n",
            "        [ 3.]])\n",
            "Batch 38\n",
            "Features: tensor([[3., 7.],\n",
            "        [1., 2.]])\n",
            "Targets: tensor([[13.],\n",
            "        [17.]])\n",
            "Batch 39\n",
            "Features: tensor([[2., 3.],\n",
            "        [2., 3.]])\n",
            "Targets: tensor([[ 9.],\n",
            "        [11.]])\n",
            "Batch 40\n",
            "Features: tensor([[10.,  9.],\n",
            "        [ 5.,  3.]])\n",
            "Targets: tensor([[18.],\n",
            "        [17.]])\n",
            "Batch 41\n",
            "Features: tensor([[5., 1.],\n",
            "        [5., 3.]])\n",
            "Targets: tensor([[ 9.],\n",
            "        [19.]])\n",
            "Batch 42\n",
            "Features: tensor([[1., 3.],\n",
            "        [8., 2.]])\n",
            "Targets: tensor([[1.],\n",
            "        [3.]])\n",
            "Batch 43\n",
            "Features: tensor([[7., 5.],\n",
            "        [6., 3.]])\n",
            "Targets: tensor([[18.],\n",
            "        [ 2.]])\n",
            "Batch 44\n",
            "Features: tensor([[5., 1.],\n",
            "        [3., 4.]])\n",
            "Targets: tensor([[11.],\n",
            "        [15.]])\n",
            "Batch 45\n",
            "Features: tensor([[7., 4.],\n",
            "        [9., 9.]])\n",
            "Targets: tensor([[6.],\n",
            "        [4.]])\n",
            "Batch 46\n",
            "Features: tensor([[ 4.,  9.],\n",
            "        [ 1., 10.]])\n",
            "Targets: tensor([[14.],\n",
            "        [ 7.]])\n",
            "Batch 47\n",
            "Features: tensor([[8., 4.],\n",
            "        [6., 6.]])\n",
            "Targets: tensor([[ 5.],\n",
            "        [16.]])\n",
            "Batch 48\n",
            "Features: tensor([[6., 3.],\n",
            "        [9., 2.]])\n",
            "Targets: tensor([[7.],\n",
            "        [2.]])\n",
            "Batch 49\n",
            "Features: tensor([[5., 9.],\n",
            "        [6., 9.]])\n",
            "Targets: tensor([[20.],\n",
            "        [ 1.]])\n",
            "Batch 50\n",
            "Features: tensor([[6., 9.],\n",
            "        [9., 7.]])\n",
            "Targets: tensor([[7.],\n",
            "        [5.]])\n"
          ]
        }
      ]
    },
    {
      "cell_type": "code",
      "source": [
        "class MyNeuralNetwork(nn.Module):\n",
        "    def __init__(self):#def __init__(self,input_size,output_size)\n",
        "        super(MyNeuralNetwork,self).__init__()\n",
        "        self.input_to_hidden_layer=nn.Linear(2,8)\n",
        "        self.hidden_layer_activation=nn.ReLU()\n",
        "        self.hidden_to_output_layer=nn.Linear(8,1)\n",
        "    def forward(self,x):\n",
        "        x=self.input_to_hidden_layer(x)\n",
        "        x=self.hidden_layer_activation(x)\n",
        "        x=self.hidden_to_output_layer(x)\n",
        "        return x\n"
      ],
      "metadata": {
        "id": "b0p4uWnR4pdg"
      },
      "execution_count": 27,
      "outputs": []
    },
    {
      "cell_type": "code",
      "source": [
        "mynet=MyNeuralNetwork().to(device)\n",
        "loss_func=nn.MSELoss()\n",
        "optimizer=SGD(mynet.parameters(), lr=0.001)"
      ],
      "metadata": {
        "id": "RIusEHig4xe2"
      },
      "execution_count": 28,
      "outputs": []
    },
    {
      "cell_type": "code",
      "source": [
        "loss_history=[]\n",
        "for _ in range(50):\n",
        "  for data in dl:\n",
        "    x,y=data\n",
        "    optimizer.zero_grad()\n",
        "    loss_value=loss_func(mynet(x),y)\n",
        "    loss_value.backward()\n",
        "    optimizer.step()\n",
        "    loss_history.append(loss_value.item())"
      ],
      "metadata": {
        "id": "Gez-JOXh5xcr"
      },
      "execution_count": 29,
      "outputs": []
    },
    {
      "cell_type": "code",
      "source": [
        "%matplotlib inline\n",
        "plt.plot(loss_history)\n",
        "plt.title('Loss variation over increasing epochs')\n",
        "plt.xlabel('epochs')\n",
        "plt.ylabel('loss value')"
      ],
      "metadata": {
        "colab": {
          "base_uri": "https://localhost:8080/",
          "height": 489
        },
        "id": "pxJdarTn6URc",
        "outputId": "f3776536-780e-45a7-ff5c-f12ea1608b35"
      },
      "execution_count": 30,
      "outputs": [
        {
          "output_type": "execute_result",
          "data": {
            "text/plain": [
              "Text(0, 0.5, 'loss value')"
            ]
          },
          "metadata": {},
          "execution_count": 30
        },
        {
          "output_type": "display_data",
          "data": {
            "text/plain": [
              "<Figure size 640x480 with 1 Axes>"
            ],
            "image/png": "[encoded data removed]"
          },
          "metadata": {}
        }
      ]
    },
    {
      "cell_type": "code",
      "source": [],
      "metadata": {
        "id": "UQ8GO6-p6b6Z"
      },
      "execution_count": 30,
      "outputs": []
    }
  ]
}